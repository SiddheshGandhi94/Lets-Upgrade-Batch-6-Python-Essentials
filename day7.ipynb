{
 "cells": [
  {
   "cell_type": "code",
   "execution_count": 4,
   "metadata": {},
   "outputs": [
    {
     "name": "stdout",
     "output_type": "stream",
     "text": [
      "Original dictionary is : \n",
      "{21: 'FTP', 22: 'SSH', 23: 'telnet', 80: 'http'}\n",
      "Dictionary after swapping is :   {'FTP': [21], 'SSH': [22], 'telnet': [23], 'http': [80]}\n"
     ]
    }
   ],
   "source": [
    "old_d =  {21: \"FTP\", 22:\"SSH\", 23: \"telnet\", 80: \"http\"}\n",
    "   \n",
    "print (\"Original dictionary is : \") \n",
    "print(old_d)  \n",
    "  \n",
    "new_d = {} \n",
    "for key, value in old_d.items(): \n",
    "   if value in new_d: \n",
    "       new_d[value].append(key) \n",
    "   else: \n",
    "       new_d[value]=[key] \n",
    "  \n",
    "\n",
    "print (\"Dictionary after swapping is :  \", new_d)  \n"
   ]
  },
  {
   "cell_type": "code",
   "execution_count": 6,
   "metadata": {},
   "outputs": [
    {
     "data": {
      "text/plain": [
       "[13]"
      ]
     },
     "execution_count": 6,
     "metadata": {},
     "output_type": "execute_result"
    }
   ],
   "source": [
    "l1 = [(1,2), (3,4), (5,6),(4,5)]\n",
    "\n",
    "l2 = [sum(pair[0] for pair in l1)]\n",
    "l2"
   ]
  },
  {
   "cell_type": "code",
   "execution_count": null,
   "metadata": {},
   "outputs": [],
   "source": []
  }
 ],
 "metadata": {
  "kernelspec": {
   "display_name": "Python 3",
   "language": "python",
   "name": "python3"
  },
  "language_info": {
   "codemirror_mode": {
    "name": "ipython",
    "version": 3
   },
   "file_extension": ".py",
   "mimetype": "text/x-python",
   "name": "python",
   "nbconvert_exporter": "python",
   "pygments_lexer": "ipython3",
   "version": "3.7.6"
  }
 },
 "nbformat": 4,
 "nbformat_minor": 4
}
