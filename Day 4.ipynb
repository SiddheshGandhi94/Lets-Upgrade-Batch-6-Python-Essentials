{
 "cells": [
  {
   "cell_type": "code",
   "execution_count": 24,
   "metadata": {
    "scrolled": true
   },
   "outputs": [
    {
     "name": "stdout",
     "output_type": "stream",
     "text": [
      "what we think we become; we are Python programmer\n"
     ]
    },
    {
     "ename": "SyntaxError",
     "evalue": "'yield' outside function (<ipython-input-24-8a5ad80e2d18>, line 10)",
     "output_type": "error",
     "traceback": [
      "\u001b[1;36m  File \u001b[1;32m\"<ipython-input-24-8a5ad80e2d18>\"\u001b[1;36m, line \u001b[1;32m10\u001b[0m\n\u001b[1;33m    yield start\u001b[0m\n\u001b[1;37m    ^\u001b[0m\n\u001b[1;31mSyntaxError\u001b[0m\u001b[1;31m:\u001b[0m 'yield' outside function\n"
     ]
    }
   ],
   "source": [
    "str1 = \"what we think we become; we are Python programmer\"\n",
    "print(str1)\n",
    "\n",
    "n = str1.count(\"we\")\n",
    "\n",
    "start = 0\n",
    "while True :\n",
    "        start = str1.find(\"we\", start)\n",
    "        if start == -1 : \n",
    "            yield start\n",
    "        start += len(\"we\") # use start += 1 to find overlapping matches"
   ]
  },
  {
   "cell_type": "raw",
   "metadata": {},
   "source": []
  },
  {
   "cell_type": "code",
   "execution_count": 5,
   "metadata": {},
   "outputs": [
    {
     "name": "stdout",
     "output_type": "stream",
     "text": [
      "Please enter string to check case : A\n",
      "Your entered string is uppercase\n"
     ]
    }
   ],
   "source": [
    "str2=input(\"Please enter string to check case : \")\n",
    "if str2.isupper():\n",
    "    print(\"Your entered string is uppercase\")\n",
    "else :\n",
    "    print (\"Your entered string is lowercase\")                                    "
   ]
  },
  {
   "cell_type": "code",
   "execution_count": null,
   "metadata": {},
   "outputs": [],
   "source": []
  }
 ],
 "metadata": {
  "kernelspec": {
   "display_name": "Python 3",
   "language": "python",
   "name": "python3"
  },
  "language_info": {
   "codemirror_mode": {
    "name": "ipython",
    "version": 3
   },
   "file_extension": ".py",
   "mimetype": "text/x-python",
   "name": "python",
   "nbconvert_exporter": "python",
   "pygments_lexer": "ipython3",
   "version": "3.7.6"
  }
 },
 "nbformat": 4,
 "nbformat_minor": 4
}
