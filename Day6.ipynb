{
 "cells": [
  {
   "cell_type": "code",
   "execution_count": 3,
   "metadata": {},
   "outputs": [
    {
     "data": {
      "text/plain": [
       "{20: 'FTP', 23: 'Telnet', 22: 'SSH', 80: 'HTTP', 52: 'DNS'}"
      ]
     },
     "execution_count": 3,
     "metadata": {},
     "output_type": "execute_result"
    }
   ],
   "source": [
    "port1 = {20 : \"FTP\" , 23 : \"Telnet\" , 22: \"SSH\", 80 : \"HTTP\" , 52  : \"DNS\"}\n",
    "port1"
   ]
  },
  {
   "cell_type": "code",
   "execution_count": 8,
   "metadata": {},
   "outputs": [
    {
     "name": "stdout",
     "output_type": "stream",
     "text": [
      "Telnet\n"
     ]
    }
   ],
   "source": [
    "port1 = {20 : \"FTP\" , 23 : \"Telnet\" , 22: \"SSH\", 80 : \"HTTP\" , 52  : \"DNS\"}\n",
    "port1\n",
    "print(port1[23])"
   ]
  },
  {
   "cell_type": "code",
   "execution_count": 11,
   "metadata": {},
   "outputs": [
    {
     "name": "stdout",
     "output_type": "stream",
     "text": [
      "Enter the key : 21\n",
      "Not Found\n"
     ]
    }
   ],
   "source": [
    "k = eval(input(\"Enter the key : \"))\n",
    "if k in port1:\n",
    "    print(port1[k])\n",
    "else : \n",
    "    print(\"Not Found\")    "
   ]
  },
  {
   "cell_type": "code",
   "execution_count": 15,
   "metadata": {},
   "outputs": [
    {
     "name": "stdout",
     "output_type": "stream",
     "text": [
      "Enter the key : 21\n",
      "Not in database\n"
     ]
    }
   ],
   "source": [
    "k = eval(input(\"Enter the key : \"))\n",
    "print(port1.get(k,\"Not in database\"))"
   ]
  },
  {
   "cell_type": "code",
   "execution_count": 17,
   "metadata": {},
   "outputs": [
    {
     "name": "stdout",
     "output_type": "stream",
     "text": [
      "Help on built-in function items:\n",
      "\n",
      "items(...) method of builtins.dict instance\n",
      "    D.items() -> a set-like object providing a view on D's items\n",
      "\n"
     ]
    }
   ],
   "source": [
    "help(port1.items)"
   ]
  },
  {
   "cell_type": "code",
   "execution_count": 18,
   "metadata": {},
   "outputs": [
    {
     "data": {
      "text/plain": [
       "dict_items([(20, 'FTP'), (23, 'Telnet'), (22, 'SSH'), (80, 'HTTP'), (52, 'DNS')])"
      ]
     },
     "execution_count": 18,
     "metadata": {},
     "output_type": "execute_result"
    }
   ],
   "source": [
    "port1.items()"
   ]
  },
  {
   "cell_type": "code",
   "execution_count": 25,
   "metadata": {},
   "outputs": [
    {
     "name": "stdout",
     "output_type": "stream",
     "text": [
      "(20, 'FTP')\n",
      "(23, 'Telnet')\n",
      "(22, 'SSH')\n",
      "(80, 'HTTP')\n",
      "(52, 'DNS')\n",
      "(443, 'HTTPS')\n",
      "(3306, 'MYSQL')\n",
      "(1111, 'MEMCACHE')\n"
     ]
    }
   ],
   "source": [
    "port2 = {443 : \"HTTPS\" , 3306  : \"MYSQL\", 1111 : \"MEMCACHE\"}\n",
    "port1.update(port2)\n",
    "for each in port1.items() :\n",
    "    print(each)"
   ]
  },
  {
   "cell_type": "code",
   "execution_count": 33,
   "metadata": {},
   "outputs": [
    {
     "data": {
      "text/plain": [
       "{1: 'a', 2: 'b', 3: 'c', 4: 'd', 5: 'e'}"
      ]
     },
     "execution_count": 33,
     "metadata": {},
     "output_type": "execute_result"
    }
   ],
   "source": [
    "list1=[1,2,3,4,5,7,8] \n",
    "list2= [\"a\",\"b\",\"c\",\"d\",\"e\"]\n",
    "len1 = min(len(list1), len(list2))\n",
    "dict1 = {}\n",
    "for each in range(len1) : \n",
    "    dict1[list1[each]] = list2[each]\n",
    "dict1\n"
   ]
  },
  {
   "cell_type": "code",
   "execution_count": null,
   "metadata": {},
   "outputs": [],
   "source": [
    "print((dict1[list1[each] = list2[each])   for each in range(len1)])"
   ]
  }
 ],
 "metadata": {
  "kernelspec": {
   "display_name": "Python 3",
   "language": "python",
   "name": "python3"
  },
  "language_info": {
   "codemirror_mode": {
    "name": "ipython",
    "version": 3
   },
   "file_extension": ".py",
   "mimetype": "text/x-python",
   "name": "python",
   "nbconvert_exporter": "python",
   "pygments_lexer": "ipython3",
   "version": "3.7.6"
  }
 },
 "nbformat": 4,
 "nbformat_minor": 4
}
